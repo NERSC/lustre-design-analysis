{
 "cells": [
  {
   "cell_type": "markdown",
   "metadata": {},
   "source": [
    "# Write Amplification Factors\n",
    "\n",
    "This notebook calculates the write amplification factors of all SSDs in Cori's burst buffer to estimate the effect of misaligned writes has on SSD drives given Cori's production workload.\n",
    "\n",
    "This is a very imperfect analysis because\n",
    "\n",
    "1. Cori's burst buffer (DataWarp) does server-side write-back caching which can even out misaligned but sequential I/Os\n",
    "2. Cori's burst buffer has no parity, so there is no read-modify-write penalty\n",
    "3. Cori's burst buffer uses multilevel striping, and the four-SSD RAID0 configuration uses 512 KiB stripes\n",
    "4. Cori's burst buffer workload is not representative of the full Cori workload since only a small subset of NERSC users opts in to using the burst buffer"
   ]
  },
  {
   "cell_type": "code",
   "execution_count": null,
   "metadata": {},
   "outputs": [],
   "source": [
    "%matplotlib inline"
   ]
  },
  {
   "cell_type": "code",
   "execution_count": null,
   "metadata": {},
   "outputs": [],
   "source": [
    "import numpy\n",
    "import pandas\n",
    "import matplotlib\n",
    "import matplotlib.pyplot\n",
    "matplotlib.rcParams['font.size'] = 16"
   ]
  },
  {
   "cell_type": "code",
   "execution_count": null,
   "metadata": {},
   "outputs": [],
   "source": [
    "INPUT_CSV = 'datasets/isdct_summary_20190401.csv'\n",
    "\n",
    "ssd_data = pandas.read_csv(INPUT_CSV)\n",
    "\n",
    "SSD_DATA_DATE = INPUT_CSV.rsplit('_', 1)[-1].split('.', 1)[0]\n",
    "\n",
    "BINWIDTH = 0.5"
   ]
  },
  {
   "cell_type": "code",
   "execution_count": null,
   "metadata": {},
   "outputs": [],
   "source": [
    "ssd_data['waf'] = ssd_data['smart_nand_bytes_written_bytes'] / ssd_data['smart_host_bytes_written_bytes']\n",
    "ssd_data['lifetime_drive_writes'] = ssd_data['smart_host_bytes_written_bytes'] / (ssd_data['maximum_lba'] * 512) # 512 bytes per LBA "
   ]
  },
  {
   "cell_type": "code",
   "execution_count": null,
   "metadata": {},
   "outputs": [],
   "source": [
    "def plot_hist(ssd_data, ax=None):\n",
    "    if not ax:\n",
    "        fig, ax = matplotlib.pyplot.subplots(figsize=(8, 3.5))\n",
    "    else:\n",
    "        fig = ax.get_figure()\n",
    "\n",
    "    hist, bins = numpy.histogram(ssd_data['waf'],\n",
    "                                 bins=numpy.arange(0, 10 + 2*BINWIDTH, BINWIDTH))\n",
    "\n",
    "    ax.bar(bins[:-1] + BINWIDTH / 2,\n",
    "           hist.astype(numpy.float64) / hist.sum(),\n",
    "           width=BINWIDTH * 1.00,\n",
    "           color='C1',\n",
    "           edgecolor='black',\n",
    "\n",
    "          )\n",
    "\n",
    "#   majtick = matplotlib.ticker.MultipleLocator(2*BINWIDTH)\n",
    "#   mintick = matplotlib.ticker.MultipleLocator(BINWIDTH)\n",
    "#   majtickfmt = matplotlib.ticker.FormatStrFormatter(\"%d\")\n",
    "#   ax.xaxis.set_major_locator(majtick)\n",
    "#   ax.xaxis.set_minor_locator(mintick)\n",
    "#   ax.xaxis.set_major_formatter(majtickfmt)\n",
    "#   ax.tick_params(which='major', length=7)\n",
    "\n",
    "    ax.set_xlabel(\"Write Amplification Factor\")\n",
    "    #ax.set_ylabel(\"Number of days\")\n",
    "    ax.set_ylabel(\"Fraction of SSDs\")\n",
    "\n",
    "    ax.set_axisbelow(True)\n",
    "    ax.xaxis.grid(True)\n",
    "    \n",
    "    majtick = matplotlib.ticker.MultipleLocator(0.1)\n",
    "#   mintick = matplotlib.ticker.MultipleLocator(0.05)\n",
    "    ax.yaxis.set_major_locator(majtick)\n",
    "#   ax.yaxis.set_minor_locator(mintick)\n",
    "    ax.yaxis.grid()\n",
    "    ax.set_ylim(-0.05, None)\n",
    "\n",
    "    num_annotations = 0\n",
    "    for bar in ax.patches:\n",
    "        x = bar.get_x()\n",
    "        y = bar.get_height()\n",
    "        total = hist.sum()\n",
    "        ndays = y * total\n",
    "        if 0 < ndays < 20:\n",
    "            ax.annotate(\"%d drive%s\" % (ndays, \"\" if ndays == 1 else \"s\"),\n",
    "                        xy=(x + BINWIDTH / 2, y + 0.01),\n",
    "                        xycoords='data',\n",
    "                        xytext=(0, 45),# + num_annotations * 10),\n",
    "                        textcoords='offset points',\n",
    "                        arrowprops={'facecolor': 'black', 'width': 1, \"headwidth\": 7, \"shrink\": 0.05},\n",
    "                        ha='center',\n",
    "                        va='bottom',\n",
    "                        rotation=90\n",
    "                       )\n",
    "            num_annotations += 1\n",
    "\n",
    "    return ax"
   ]
  },
  {
   "cell_type": "code",
   "execution_count": null,
   "metadata": {},
   "outputs": [],
   "source": [
    "def plot_scatter(ssd_data, ax=None):\n",
    "    \n",
    "    if not ax:\n",
    "        fig, ax = matplotlib.pyplot.subplots(figsize=(8, 3.5))\n",
    "    else:\n",
    "        fig = ax.get_figure()\n",
    "\n",
    "    x = ssd_data['waf']\n",
    "#   y = ssd_data['smart_host_bytes_written_bytes'] / 10**12\n",
    "    y = ssd_data['lifetime_drive_writes']\n",
    "\n",
    "    ax.scatter(x, y, marker='x', color='black', alpha=0.25)\n",
    "\n",
    "    ax.set_xlabel(\"WAF\")\n",
    "    ax.set_ylabel(\"Lifetime\\nDrive Writes\")\n",
    "    ax.grid()\n",
    "    ax.set_axisbelow(True)\n",
    "\n",
    "    majtick = matplotlib.ticker.MultipleLocator(2*BINWIDTH)\n",
    "#   mintick = matplotlib.ticker.MultipleLocator(BINWIDTH)\n",
    "    majtickfmt = matplotlib.ticker.FormatStrFormatter(\"%d\")\n",
    "    ax.xaxis.set_major_locator(majtick)\n",
    "#   ax.xaxis.set_minor_locator(mintick)\n",
    "    ax.xaxis.set_major_formatter(majtickfmt)\n",
    "    ax.tick_params(which='major', length=7)\n",
    "    \n",
    "    return ax"
   ]
  },
  {
   "cell_type": "code",
   "execution_count": null,
   "metadata": {},
   "outputs": [],
   "source": [
    "fig, axes = matplotlib.pyplot.subplots(nrows=2, ncols=1, figsize=(8, 6), sharex=True)\n",
    "fig.subplots_adjust(hspace=0.0, wspace=0.0)\n",
    "\n",
    "plot_hist(ssd_data, ax=axes[0])\n",
    "plot_scatter(ssd_data, ax=axes[1])"
   ]
  },
  {
   "cell_type": "code",
   "execution_count": null,
   "metadata": {},
   "outputs": [],
   "source": [
    "output_file = 'coribb_ssd_wafs_%s.pdf' % SSD_DATA_DATE\n",
    "fig.savefig(output_file, dpi=200, bbox_inches='tight', transparent=True)\n",
    "print(\"Wrote output to\", output_file)"
   ]
  },
  {
   "cell_type": "code",
   "execution_count": null,
   "metadata": {},
   "outputs": [],
   "source": [
    "ax = plot_hist(ssd_data)\n",
    "output_file = 'coribb_ssd_wafs_hist_%s.pdf' % SSD_DATA_DATE\n",
    "ax.get_figure().savefig(output_file, dpi=200, bbox_inches='tight', transparent=True)\n",
    "print(\"Wrote output to\", output_file)"
   ]
  },
  {
   "cell_type": "code",
   "execution_count": null,
   "metadata": {},
   "outputs": [],
   "source": [
    "(ssd_data['power_on_hours'] / 24 / 365.25).describe()"
   ]
  },
  {
   "cell_type": "code",
   "execution_count": null,
   "metadata": {},
   "outputs": [],
   "source": [
    "(ssd_data['waf']).describe()"
   ]
  },
  {
   "cell_type": "code",
   "execution_count": null,
   "metadata": {},
   "outputs": [],
   "source": [
    "print(\"%.2f  5th percentile\\n%.2f 95th percentile\" % (numpy.percentile(ssd_data['waf'], 5), numpy.percentile(ssd_data['waf'], 95)))"
   ]
  },
  {
   "cell_type": "code",
   "execution_count": null,
   "metadata": {},
   "outputs": [],
   "source": []
  }
 ],
 "metadata": {
  "kernelspec": {
   "display_name": "Python 3",
   "language": "python",
   "name": "python3"
  },
  "language_info": {
   "codemirror_mode": {
    "name": "ipython",
    "version": 3
   },
   "file_extension": ".py",
   "mimetype": "text/x-python",
   "name": "python",
   "nbconvert_exporter": "python",
   "pygments_lexer": "ipython3",
   "version": "3.7.1"
  }
 },
 "nbformat": 4,
 "nbformat_minor": 2
}
