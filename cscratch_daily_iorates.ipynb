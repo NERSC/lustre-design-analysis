{
 "cells": [
  {
   "cell_type": "markdown",
   "metadata": {},
   "source": [
    "# Daily I/O Rates\n",
    "\n",
    "Calculate the distribution of daily I/O rates hitting a file system.  This is used to determine the minimum required endurance for an all-flash file system.  Note that this is __not__ the same as the daily growth rate, as users tend to write far more data than they retain."
   ]
  },
  {
   "cell_type": "code",
   "execution_count": null,
   "metadata": {},
   "outputs": [],
   "source": [
    "%matplotlib inline"
   ]
  },
  {
   "cell_type": "code",
   "execution_count": null,
   "metadata": {},
   "outputs": [],
   "source": [
    "import datetime\n",
    "\n",
    "import numpy\n",
    "import scipy.stats\n",
    "import matplotlib.pyplot\n",
    "import pandas"
   ]
  },
  {
   "cell_type": "code",
   "execution_count": null,
   "metadata": {},
   "outputs": [],
   "source": [
    "matplotlib.rcParams['font.size'] = 16"
   ]
  },
  {
   "cell_type": "code",
   "execution_count": null,
   "metadata": {},
   "outputs": [],
   "source": [
    "START_TIME = datetime.datetime(2017, 4, 1)\n",
    "END_TIME = datetime.datetime(2019, 3, 31)\n",
    "\n",
    "CSCRATCH_KIBS = 29763608416864\n",
    "CSCRATCH_GIBS = CSCRATCH_KIBS / 1024.0 / 1024.0\n",
    "CSCRATCH_PIBS = CSCRATCH_GIBS / 1024.0 / 1024.0\n",
    "def pibs_to_pbs(pibs):\n",
    "    return pibs * 2**50 / 10**(5*3)"
   ]
  },
  {
   "cell_type": "code",
   "execution_count": null,
   "metadata": {},
   "outputs": [],
   "source": [
    "cscratch_df = pandas.read_csv('datasets/cscratch_daily_iorates.csv')\n",
    "cscratch_df['date'] = [datetime.datetime.strptime(x, \"%Y-%m-%d\") for x in cscratch_df['date']]\n",
    "cscratch_df = cscratch_df[(cscratch_df['date'] >= START_TIME) & (cscratch_df['date'] <= END_TIME)]\n",
    "cscratch_df.index = cscratch_df['date']\n",
    "cscratch_df = cscratch_df.drop(columns=['date'])"
   ]
  },
  {
   "cell_type": "code",
   "execution_count": null,
   "metadata": {},
   "outputs": [],
   "source": [
    "cscratch_df['fsrpd'] = cscratch_df['read_bytes'] / 2**30 / CSCRATCH_GIBS\n",
    "cscratch_df['fswpd'] = cscratch_df['write_bytes'] / 2**30 / CSCRATCH_GIBS"
   ]
  },
  {
   "cell_type": "code",
   "execution_count": null,
   "metadata": {},
   "outputs": [],
   "source": [
    "cscratch_df['fswpd'].describe()"
   ]
  },
  {
   "cell_type": "code",
   "execution_count": null,
   "metadata": {},
   "outputs": [],
   "source": [
    "BINWIDTH = 0.0125\n",
    "fig, ax = matplotlib.pyplot.subplots(figsize=(8, 3.5))\n",
    "\n",
    "#cscratch_df['fswpd'].hist(edgecolor='black',\n",
    "#                          bins=numpy.arange(0, 0.3, BINWIDTH),\n",
    "#                          width=BINWIDTH * 0.8,\n",
    "#                          color='C0',\n",
    "#                          ax=ax,\n",
    "#                          density=True)\n",
    "\n",
    "hist, bins = numpy.histogram(cscratch_df['fswpd'],\n",
    "                             bins=numpy.arange(0, 0.3, BINWIDTH))\n",
    "\n",
    "ax.bar(bins[:-1],\n",
    "       hist.astype(numpy.float64) / hist.sum(),\n",
    "       width=BINWIDTH * 0.8,\n",
    "       color='C0',\n",
    "       edgecolor='black',\n",
    "       \n",
    "      )\n",
    "\n",
    "majtick = matplotlib.ticker.MultipleLocator(4*BINWIDTH)\n",
    "mintick = matplotlib.ticker.MultipleLocator(BINWIDTH)\n",
    "majtickfmt = matplotlib.ticker.FormatStrFormatter(\"%.2f\")\n",
    "ax.xaxis.set_major_locator(majtick)\n",
    "ax.xaxis.set_minor_locator(mintick)\n",
    "ax.xaxis.set_major_formatter(majtickfmt)\n",
    "ax.tick_params(which='major', length=7)\n",
    "\n",
    "ax.set_xlabel(\"File System Writes per Day\")\n",
    "#ax.set_ylabel(\"Number of days\")\n",
    "ax.set_ylabel(\"Fraction of days\")\n",
    "caption = \"Cori scratch (%.1f PB)\\n%s - %s\" % (\n",
    "    pibs_to_pbs(CSCRATCH_PIBS),\n",
    "    START_TIME.strftime(\"%b %-d, %Y\"),\n",
    "    END_TIME.strftime(\"%b %-d, %Y\"))\n",
    "ax.text(0.98, 0.78, caption, fontsize='medium',\n",
    "        ha='right', transform=ax.transAxes, backgroundcolor='#FFFFFFFF')\n",
    "\n",
    "ax.set_axisbelow(True)\n",
    "ax.xaxis.grid(False)\n",
    "\n",
    "\n",
    "if False:\n",
    "    ax.set_ylim(-10, None)\n",
    "    for bar in ax.patches:\n",
    "        x = bar.get_x()\n",
    "        y = bar.get_height()\n",
    "        if y > 0:\n",
    "    #       ax.text(x + 0.0115, y + 25, int(y), ha='center')\n",
    "            ax.text(x + BINWIDTH/2,\n",
    "                    #y + y * 2.0 + 15 if y < 100 else y + 75,\n",
    "                    y + 25,\n",
    "                    int(y),\n",
    "                    ha='center',\n",
    "                    rotation=90 if y >= 10 else 0,\n",
    "                    )\n",
    "\n",
    "num_annotations = 0\n",
    "for bar in ax.patches:\n",
    "    x = bar.get_x()\n",
    "    y = bar.get_height()\n",
    "    total = hist.sum()\n",
    "    ndays = y * total\n",
    "    if 0 < ndays < 10:\n",
    "        ax.annotate(\"%d day%s\" % (ndays, \"\" if ndays == 1 else \"s\"),\n",
    "                    xy=(x + BINWIDTH / 2, y + 0.01),\n",
    "                    xycoords='data',\n",
    "                    xytext=(0, 45),# + num_annotations * 10),\n",
    "                    textcoords='offset points',\n",
    "                    arrowprops={'facecolor': 'black', 'width': 1, \"headwidth\": 7, \"shrink\": 0.05},\n",
    "                    ha='center',\n",
    "                    va='bottom',\n",
    "                    rotation=90\n",
    "                   )\n",
    "        num_annotations += 1\n",
    "majtick = matplotlib.ticker.MultipleLocator(0.1)\n",
    "mintick = matplotlib.ticker.MultipleLocator(0.05)\n",
    "ax.yaxis.set_major_locator(majtick)\n",
    "ax.yaxis.set_minor_locator(mintick)\n",
    "ax.yaxis.grid()\n",
    "ax.set_ylim(-0.05, None)"
   ]
  },
  {
   "cell_type": "code",
   "execution_count": null,
   "metadata": {},
   "outputs": [],
   "source": [
    "cscratch_df['fswpd'].describe()"
   ]
  },
  {
   "cell_type": "code",
   "execution_count": null,
   "metadata": {},
   "outputs": [],
   "source": [
    "(cscratch_df['read_bytes'] + cscratch_df['write_bytes']).describe() / 2**20\n",
    "(cscratch_df['write_bytes']).describe() / 2**40"
   ]
  },
  {
   "cell_type": "code",
   "execution_count": null,
   "metadata": {},
   "outputs": [],
   "source": [
    "percentile = 99\n",
    "print(\"%dth percentile is %.2f TiB\" % (percentile,\n",
    "                                       scipy.percentile((cscratch_df['write_bytes'] / 2**40), 95)))"
   ]
  },
  {
   "cell_type": "code",
   "execution_count": null,
   "metadata": {},
   "outputs": [],
   "source": [
    "percentile = 99\n",
    "print(\"%dth percentile is %.6f FSWPD\" % (percentile, \n",
    "                              scipy.percentile((cscratch_df['fswpd']), 99)))"
   ]
  },
  {
   "cell_type": "code",
   "execution_count": null,
   "metadata": {},
   "outputs": [],
   "source": [
    "output_file = 'cscratch_daily_iorates_%s-%s.pdf' % (START_TIME.strftime(\"%Y%m%d\"), END_TIME.strftime(\"%Y%m%d\"))\n",
    "fig.savefig(output_file, dpi=200, bbox_inches='tight', transparent=True)\n",
    "print(\"Wrote output to\", output_file)"
   ]
  },
  {
   "cell_type": "code",
   "execution_count": null,
   "metadata": {},
   "outputs": [],
   "source": []
  }
 ],
 "metadata": {
  "kernelspec": {
   "display_name": "Python 3",
   "language": "python",
   "name": "python3"
  },
  "language_info": {
   "codemirror_mode": {
    "name": "ipython",
    "version": 3
   },
   "file_extension": ".py",
   "mimetype": "text/x-python",
   "name": "python",
   "nbconvert_exporter": "python",
   "pygments_lexer": "ipython3",
   "version": "3.7.1"
  }
 },
 "nbformat": 4,
 "nbformat_minor": 2
}
