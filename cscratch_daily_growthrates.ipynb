{
 "cells": [
  {
   "cell_type": "markdown",
   "metadata": {},
   "source": [
    "# Required Capacity\n",
    "\n",
    "Calculate the required capacity for a future file system based on the _daily growth in used capacity_ observed on an existing file system."
   ]
  },
  {
   "cell_type": "code",
   "execution_count": null,
   "metadata": {},
   "outputs": [],
   "source": [
    "%matplotlib inline"
   ]
  },
  {
   "cell_type": "code",
   "execution_count": null,
   "metadata": {},
   "outputs": [],
   "source": [
    "import os\n",
    "import glob\n",
    "import datetime\n",
    "import warnings\n",
    "\n",
    "import numpy\n",
    "import scipy\n",
    "import matplotlib\n",
    "import matplotlib.pyplot\n",
    "\n",
    "import pandas\n",
    "import fsanalysis.peakdetect as peakdetect\n"
   ]
  },
  {
   "cell_type": "code",
   "execution_count": null,
   "metadata": {},
   "outputs": [],
   "source": [
    "matplotlib.rcParams['font.size'] = 16"
   ]
  },
  {
   "cell_type": "code",
   "execution_count": null,
   "metadata": {},
   "outputs": [],
   "source": [
    "START_TIME = datetime.datetime(2017, 4, 1)\n",
    "END_TIME = datetime.datetime(2019, 3, 31)\n",
    "\n",
    "CSCRATCH_KIBS = 29763608416864 # from df\n",
    "CSCRATCH_GIBS = CSCRATCH_KIBS / 1024.0 / 1024.0\n",
    "CSCRATCH_TIBS = CSCRATCH_GIBS / 1024.0"
   ]
  },
  {
   "cell_type": "markdown",
   "metadata": {},
   "source": [
    "Load file system fullness data from CSV or from raw input sources"
   ]
  },
  {
   "cell_type": "code",
   "execution_count": null,
   "metadata": {},
   "outputs": [],
   "source": [
    "CACHE_FILE = 'datasets/cscratch_fullness-2017-02-14_2019-03-31.csv'\n",
    "print(\"Loading from\", CACHE_FILE)\n",
    "cscratch_lfs = pandas.read_csv(CACHE_FILE, index_col=0)\n",
    "print(\"Loaded %d days (out of %d expected)\" % (len(cscratch_lfs), (END_TIME - START_TIME).days))\n",
    "\n",
    "# Add a new date column with the epoch timestamp so we can calculate daily growth rates\n",
    "cscratch_lfs['date'] = [int(datetime.datetime.strptime(x, \"%Y-%m-%d %H:%M:%S\").strftime(\"%s\")) for x in cscratch_lfs.index]\n",
    "cscratch_lfs = cscratch_lfs[(cscratch_lfs['date'] >= START_TIME.timestamp()) & (cscratch_lfs['date'] <= END_TIME.timestamp())]\n",
    "print(\"%d actual days loaded\" % len(cscratch_lfs))"
   ]
  },
  {
   "cell_type": "code",
   "execution_count": null,
   "metadata": {},
   "outputs": [],
   "source": [
    "def print_summary(pct_per_sec):\n",
    "    pct_per_day = pct_per_sec * 86400\n",
    "    gib_per_day = (pct_per_day / 100.0 * CSCRATCH_GIBS)\n",
    "    dram_per_day = (gib_per_day / CORI_DRAM_GIB)\n",
    "    print(\"File system fills at %.2f%% per day\" % pct_per_day)\n",
    "    print(\"                     %.2f TiB/day\" % (gib_per_day / 1024.0))\n",
    "    print(\"                     %.2f%% of DRAM per day\" % (dram_per_day * 100.0))\n",
    "    print(\"By extrapolation, %d days to fill\" % datetime.timedelta(seconds=(100.0 / pct_per_sec)).days)\n",
    "    return {\n",
    "                'pct_per_day': pct_per_day,\n",
    "                'gib_per_day': gib_per_day,\n",
    "                'dram_per_day': dram_per_day,\n",
    "           }"
   ]
  },
  {
   "cell_type": "code",
   "execution_count": null,
   "metadata": {},
   "outputs": [],
   "source": [
    "def pibs_to_pbs(pibs):\n",
    "    return pibs * 2**50 / 10**(5*3)"
   ]
  },
  {
   "cell_type": "markdown",
   "metadata": {},
   "source": [
    "## Basic visualization of the data"
   ]
  },
  {
   "cell_type": "markdown",
   "metadata": {},
   "source": [
    "We can calculate the dates on which purges were initiated from the purge logs maintained by Kirill."
   ]
  },
  {
   "cell_type": "code",
   "execution_count": null,
   "metadata": {},
   "outputs": [],
   "source": [
    "# Figure out the dates on which purges were initiated\n",
    "purge_dates = []\n",
    "for logfile in glob.glob('/global/project/projectdirs/m888/glock/cpurge01/purge.cscratch1.*.log'):\n",
    "    purge_dates.append(int(datetime.datetime.strptime(os.path.basename(logfile).split('.')[2], \"%Y%m%d\").strftime(\"%s\")))\n",
    "purge_dates.sort()"
   ]
  },
  {
   "cell_type": "markdown",
   "metadata": {},
   "source": [
    "Plot the file system fullness along with purge start dates to see how file system capacity responded to the various purges that have been run on cscratch."
   ]
  },
  {
   "cell_type": "code",
   "execution_count": null,
   "metadata": {},
   "outputs": [],
   "source": [
    "fig, ax = matplotlib.pyplot.subplots(figsize=(12,4))\n",
    "\n",
    "ax.plot([datetime.datetime.fromtimestamp(xx) for xx in cscratch_lfs['date'].values],\n",
    "        (cscratch_lfs['ost_avg_full_pct']).values,\n",
    "       label=\"cscratch\")\n",
    "#ax.plot(sma7)\n",
    "#ax.plot(sma28)\n",
    "\n",
    "ax.set_ylim(0, 100)\n",
    "ymin, ymax = ax.get_ylim()\n",
    "\n",
    "# Plot purge dates\n",
    "for purgedate in purge_dates:\n",
    "    if purgedate < cscratch_lfs['date'].max():\n",
    "        ax.plot([datetime.datetime.fromtimestamp(purgedate),\n",
    "                 datetime.datetime.fromtimestamp(purgedate)],\n",
    "                [ymin, ymax],\n",
    "                '--',\n",
    "                color='red')\n",
    "\n",
    "ax.legend()"
   ]
  },
  {
   "cell_type": "code",
   "execution_count": null,
   "metadata": {},
   "outputs": [],
   "source": [
    "daily_fill_pct = cscratch_lfs['ost_avg_full_pct'].iloc[1:].values - cscratch_lfs['ost_avg_full_pct'].iloc[0:-1].values\n",
    "daily_fill_pct = daily_fill_pct[daily_fill_pct >= 0.0]"
   ]
  },
  {
   "cell_type": "markdown",
   "metadata": {},
   "source": [
    "## Distribution of daily file system growth rates"
   ]
  },
  {
   "cell_type": "code",
   "execution_count": null,
   "metadata": {},
   "outputs": [],
   "source": [
    "daily_fill_tibs = daily_fill_pct / 100.0 * CSCRATCH_TIBS\n",
    "daily_fill_tbs = numpy.vectorize(lambda x: (pibs_to_pbs(x/1024.0)*1000.0))(daily_fill_tibs)\n",
    "\n",
    "print(\"%.2f TiB mean daily growth\" % (daily_fill_tibs).mean())\n",
    "print(\"%.2f TiB min daily growth\" % (daily_fill_tibs).min())\n",
    "print(\"%.2f TiB 25th daily growth\" % scipy.percentile(daily_fill_tibs, 25))\n",
    "print(\"%.2f TiB median daily growth\" % scipy.percentile(daily_fill_tibs, 50))\n",
    "print(\"%.2f TiB 75th daily growth\" % scipy.percentile(daily_fill_tibs, 75))\n",
    "print(\"%.2f TiB max daily growth\" % (daily_fill_tibs).max())\n",
    "print()\n",
    "print(\"%.2f TB mean daily growth\" % (daily_fill_tbs).mean())\n",
    "print(\"%.2f TB min daily growth\" % (daily_fill_tbs).min())\n",
    "print(\"%.2f TB 25th daily growth\" % scipy.percentile(daily_fill_tbs, 25))\n",
    "print(\"%.2f TB median daily growth\" % scipy.percentile(daily_fill_tbs, 50))\n",
    "print(\"%.2f TB 75th daily growth\" % scipy.percentile(daily_fill_tbs, 75))\n",
    "print(\"%.2f TB max daily growth\" % (daily_fill_tbs).max())"
   ]
  },
  {
   "cell_type": "code",
   "execution_count": null,
   "metadata": {},
   "outputs": [],
   "source": [
    "bin_width = 50.0\n",
    "max_bin = 1000.0\n",
    "fig, ax = matplotlib.pyplot.subplots(figsize=(8, 4))\n",
    "ax.hist(daily_fill_pct / 100.0 * CSCRATCH_TIBS,\n",
    "        edgecolor='black',\n",
    "        width=bin_width * 0.90,\n",
    "        color='C0',\n",
    "        bins=numpy.arange(0, max_bin, bin_width))\n",
    "ax.set_ylabel(\"Number of days\")\n",
    "ax.set_xlabel(\"Daily growth (TiB/day)\")\n",
    "ax.set_ylim(-3, None)\n",
    "ax.set_xticks(numpy.arange(0, max_bin, bin_width))\n",
    "ax.set_xticklabels([\"%d\" % x if (x % int(2*bin_width) == 0) else \"\" for x in numpy.arange(0, max_bin, bin_width)],\n",
    "                   rotation=30,\n",
    "                   ha=\"center\")\n",
    "\n",
    "ax.yaxis.grid()\n",
    "ax.set_axisbelow(True)\n",
    "caption = \"Cori scratch (%.1f PB)\\n%s - %s\" % (\n",
    "    pibs_to_pbs(CSCRATCH_TIBS / 1024.0),\n",
    "    START_TIME.strftime(\"%b %-d, %Y\"),\n",
    "    END_TIME.strftime(\"%b %-d, %Y\"))\n",
    "ax.text(0.98, 0.84, caption, fontsize='medium',\n",
    "        ha='right', transform=ax.transAxes, backgroundcolor='#FFFFFF99')"
   ]
  },
  {
   "cell_type": "code",
   "execution_count": null,
   "metadata": {},
   "outputs": [],
   "source": [
    "output_file = 'cscratch_growth_rate_%s-%s.pdf' % (START_TIME.strftime(\"%Y%m%d\"), END_TIME.strftime(\"%Y%m%d\"))\n",
    "fig.savefig(output_file, dpi=200, bbox_inches='tight', transparent=True)\n",
    "print(\"Wrote output to\", output_file)"
   ]
  },
  {
   "cell_type": "markdown",
   "metadata": {},
   "source": [
    "## Calculating Required File System Capacity\n",
    "\n",
    "Here we determine the required file system capacity for a range of input parameters (purge policies, SSIs, etc)"
   ]
  },
  {
   "cell_type": "code",
   "execution_count": null,
   "metadata": {},
   "outputs": [],
   "source": [
    "percentile = 75\n",
    "purge_fraction = 0.50\n",
    "purge_interval = 28\n",
    "rate_multipliers = [3.0, 4.0]\n",
    "\n",
    "# fill_rate_tibs = scipy.percentile(daily_fill_pct * CSCRATCH_TIBS, percentile) / 100.0\n",
    "fill_rate_tibs = daily_fill_pct.mean() * CSCRATCH_TIBS / 100.0\n",
    "\n",
    "def calc_pibs_required(fill_rate_tibs, purge_fraction, purge_interval, rate_multiplier):\n",
    "    fill_rate_pibs = fill_rate_tibs / 1024.0\n",
    "    return (rate_multiplier * fill_rate_pibs * purge_interval / purge_fraction)\n",
    "\n",
    "for ssi in rate_multipliers:\n",
    "    for purge_interval in (21, 28, 84):\n",
    "        print(\"=====\" * 20)\n",
    "        print(\"Examining purge interval of %d days at SSI = %.1f\" % (purge_interval, ssi))\n",
    "        print(\"=====\" * 20)\n",
    "\n",
    "        print(\"The chosen fill rate is %.2f TiB/day\" % fill_rate_tibs)\n",
    "        print(\"                        %.2f TB/day\" % (pibs_to_pbs(fill_rate_tibs/1024.0)*1000.0))\n",
    "        print(\"%.1fx increase in throughput on N9 will fill at %.1f TB/day\" % (ssi, ssi * fill_rate_tibs))\n",
    "        print(\"which would take %d days to fill\" % (30000.0 / (ssi * fill_rate_tibs)))\n",
    "\n",
    "        print()\n",
    "\n",
    "        print(\"Assuming we purge %d%% of bytes every %d days,\" % (purge_fraction * 100.0, purge_interval))\n",
    "\n",
    "        pibs_required = calc_pibs_required(fill_rate_tibs, purge_fraction, purge_interval, ssi)\n",
    "        print(\"PiB required: %.2f\" % pibs_required)\n",
    "        print(\"PB required: %.2f\" % pibs_to_pbs(pibs_required))\n",
    "        print()"
   ]
  },
  {
   "cell_type": "code",
   "execution_count": null,
   "metadata": {},
   "outputs": [],
   "source": []
  },
  {
   "cell_type": "code",
   "execution_count": null,
   "metadata": {},
   "outputs": [],
   "source": []
  }
 ],
 "metadata": {
  "kernelspec": {
   "display_name": "Python 3",
   "language": "python",
   "name": "python3"
  },
  "language_info": {
   "codemirror_mode": {
    "name": "ipython",
    "version": 3
   },
   "file_extension": ".py",
   "mimetype": "text/x-python",
   "name": "python",
   "nbconvert_exporter": "python",
   "pygments_lexer": "ipython3",
   "version": "3.6.5"
  }
 },
 "nbformat": 4,
 "nbformat_minor": 2
}
